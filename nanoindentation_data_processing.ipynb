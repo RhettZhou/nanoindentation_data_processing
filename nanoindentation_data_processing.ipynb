{
 "cells": [
  {
   "cell_type": "markdown",
   "metadata": {},
   "source": [
    "# 0. Introduction\n",
    "\n",
    "By Xuyang (Rhett) Zhou at Max-Planck-Institut für Eisenforschung GmbH, 2021/05/14 13:16\n",
    "\n",
    "This code aims to enable fast data processing when one has several nanoindentation results and wants to compare these results together.\n",
    "\n",
    "First, the user can place all the experiment files (.xls files) in a folder where the individual files are named one after the other. \n",
    "\n",
    "In step 2, the user can select any of the .xls files to start with. Then the user can specify the structure of the naming (up to 3 levels are supported). All the raw data points in each region of interest (ROI) are plotted and save in the subfolder 'png'.\n",
    "\n",
    "In step 3, the user can select the nonsensical data points, label them and exclude them for later statistical analysis. This step is important as there may be contaminants on the surface of your sample that will affect the reliability of your measurements. The remaining data points in each region of interest (ROI) are also plotted and save in the subfolder 'png'. After completing the entire step 3, the metadata has been saved and is ready for the next use. \n",
    "\n",
    "Step 4 offers the possibility to plot all curves together and draw the statistical results."
   ]
  },
  {
   "cell_type": "markdown",
   "metadata": {},
   "source": [
    "# 1. Import useful functions"
   ]
  },
  {
   "cell_type": "code",
   "execution_count": 2,
   "metadata": {},
   "outputs": [
    {
     "name": "stdout",
     "output_type": "stream",
     "text": [
      "Using matplotlib backend: Qt5Agg\n"
     ]
    }
   ],
   "source": [
    "%matplotlib\n",
    "import matplotlib.pyplot as plt\n",
    "import xlrd\n",
    "import numpy as np\n",
    "from tkinter import filedialog\n",
    "import os\n",
    "import copy\n",
    "import shutil\n",
    "import pickle \n",
    "plt.rcParams.update({'figure.max_open_warning': 0})\n",
    "\n",
    "def annot_max(x,y, p_numb, ax=None):\n",
    "    x = np.array(x)\n",
    "    y = np.array(y)\n",
    "    xmax = x[np.argmax(y)]\n",
    "    ymax = y.max()\n",
    "    text= \"{:d}\".format(p_numb)\n",
    "    if not ax:\n",
    "        ax=plt.gca()\n",
    "    kw = dict(xycoords='data',textcoords=\"data\",ha=\"left\", va=\"top\")\n",
    "    ax.annotate(text, xy=(xmax, ymax), xytext=(xmax,ymax), **kw)"
   ]
  },
  {
   "cell_type": "markdown",
   "metadata": {},
   "source": [
    "# 2. Import experimental data"
   ]
  },
  {
   "cell_type": "markdown",
   "metadata": {},
   "source": [
    "## 2.1 Load the data"
   ]
  },
  {
   "cell_type": "markdown",
   "metadata": {},
   "source": [
    "#### From the out of fn, user can know the structure of your filename, the string starts from index 0"
   ]
  },
  {
   "cell_type": "code",
   "execution_count": 3,
   "metadata": {},
   "outputs": [
    {
     "data": {
      "text/plain": [
       "['example', '0', 'II', 'c']"
      ]
     },
     "execution_count": 3,
     "metadata": {},
     "output_type": "execute_result"
    }
   ],
   "source": [
    "file_path = filedialog.askopenfilename()\n",
    "file_name = os.path.split(file_path)[1]  # Get the name of the analysed file\n",
    "fold_path = os.path.split(file_path)[0]\n",
    "fn = file_name[:-4].split('_')\n",
    "fn"
   ]
  },
  {
   "cell_type": "markdown",
   "metadata": {},
   "source": [
    "## 2.2 Define the structure of naming"
   ]
  },
  {
   "cell_type": "markdown",
   "metadata": {},
   "source": [
    "#### Note: This function supports a maximum of three loops for different experimental conditions. If less than three, set it to be ['']."
   ]
  },
  {
   "cell_type": "code",
   "execution_count": 4,
   "metadata": {},
   "outputs": [],
   "source": [
    "######### User can change the parameters below ########### \n",
    "p1 = ['0']\n",
    "p2 = ['I','II']\n",
    "p3 = ['a','b','c']\n",
    "data_point = 25\n",
    "#########################################################"
   ]
  },
  {
   "cell_type": "markdown",
   "metadata": {},
   "source": [
    "## 2.3 Collect all data into a list, save plots as 'png' file, and make a copy of the raw data"
   ]
  },
  {
   "cell_type": "code",
   "execution_count": 6,
   "metadata": {},
   "outputs": [],
   "source": [
    "data_raw = []\n",
    "results_raw = []\n",
    "key = 1\n",
    "for i in p1:\n",
    "    data_raw_p2 = []\n",
    "    results_raw_p2 = []\n",
    "    for j in p2:\n",
    "        data_raw_p3 = []\n",
    "        results_raw_p3 = []\n",
    "        for k in p3:\n",
    "            ############## User can set any impossible condition below ####################################\n",
    "            if not (j == 'I' and k == 'c'):\n",
    "            #############################################################################################\n",
    "                data_raw_per_area = []\n",
    "                results_raw_per_area = []\n",
    "                ################# User can set names for your xls file below (use above fn) #############\n",
    "                name = fn[0] + '_' + i + '_' + j + '_' + k + '.xls'\n",
    "                ##########################################################################################\n",
    "                workbook = xlrd.open_workbook(fold_path + '/' + name)\n",
    "                \n",
    "                directory = fold_path + '/' + 'png'\n",
    "                name_save = i + '_' + j + '_' + k + '.png'\n",
    "                \n",
    "                sheet_name_results = 'Results'\n",
    "                sheet_results = workbook.sheet_by_name(sheet_name_results)\n",
    "                \n",
    "                fig=plt.figure()\n",
    "                plt.ioff()\n",
    "                for l in range(1,data_point+1): \n",
    "                    modulus_reduced = sheet_results.cell(l+1,1)\n",
    "                    modulus = sheet_results.cell(l+1,2)\n",
    "                    hardness = sheet_results.cell(l+1,3)\n",
    "                    stiffness = sheet_results.cell(l+1,9)\n",
    "                    results_point = [modulus_reduced,modulus,hardness,stiffness,1]\n",
    "                    results_raw_per_area.append(results_point)\n",
    "                    \n",
    "                    sheet_name = 'Test ' + format(l, '0>3d')\n",
    "                    sheet = workbook.sheet_by_name(sheet_name)\n",
    "                    row_count = sheet.nrows\n",
    "                    col_count = sheet.ncols\n",
    "                    col_x = sheet.col_values(1, start_rowx=2, end_rowx=row_count-1)\n",
    "                    col_y = sheet.col_values(2, start_rowx=2, end_rowx=row_count-1)\n",
    "                    data_point_curve = [col_x, col_y]\n",
    "                    data_raw_per_area.append(data_point_curve)\n",
    "                    \n",
    "                    if key == 1:\n",
    "                        header_results = sheet_results.row_values(0, start_colx=0, end_colx=None)\n",
    "                        unit_results = sheet_results.row_values(1, start_colx=0, end_colx=None)\n",
    "                        modulus_reduced_header = header_results[1] + \" (\" + unit_results[1] + \")\"\n",
    "                        modulus_header = header_results[2] + \" (\" + unit_results[2] + \")\"\n",
    "                        hardness_header = header_results[3] + \" (\" + unit_results[3] + \")\"\n",
    "                        stiffness_header = header_results[9] + \" (\" + unit_results[9] + \")\"\n",
    "                        overall_header = [modulus_reduced_header,modulus_header,hardness_header,stiffness_header]\n",
    "                        overall_header_no_unit = [header_results[1],header_results[2],header_results[3],header_results[9]]\n",
    "                        \n",
    "                        header = sheet.row_values(0, start_colx=0, end_colx=None)\n",
    "                        unit = sheet.row_values(1, start_colx=0, end_colx=None)\n",
    "                        col_x_header = header[1] + \" (\" + unit[1] + \")\"\n",
    "                        col_y_header = header[2] + \" (\" + unit[2] + \")\"\n",
    "                        try:\n",
    "                            os.stat(directory)\n",
    "                        except:\n",
    "                            os.mkdir(directory) \n",
    "                        key = 0\n",
    "                        \n",
    "                    plt.plot(col_x,col_y, zorder = l)\n",
    "                    annot_max(col_x,col_y,l)\n",
    "                                        \n",
    "                plt.xlabel(col_x_header)\n",
    "                plt.ylabel(col_y_header)\n",
    "                ####################### User can set ranges of x, y axes below #########################\n",
    "                plt.xlim(-5,55)\n",
    "                plt.ylim(-0.05, 0.85)\n",
    "                #######################################################################################\n",
    "                plt.savefig(directory + '/' + name_save)\n",
    "                plt.close(fig)\n",
    "                \n",
    "                data_raw_p3.append(data_raw_per_area)\n",
    "                results_raw_p3.append(results_raw_per_area)\n",
    "        data_raw_p2.append(data_raw_p3)\n",
    "        results_raw_p2.append(results_raw_p3)\n",
    "    data_raw.append(data_raw_p2)\n",
    "    results_raw.append(results_raw_p2)\n",
    "results = copy.deepcopy(results_raw)"
   ]
  },
  {
   "cell_type": "markdown",
   "metadata": {},
   "source": [
    "# 3. Plot curves in one ROI for deleting bad point(s)"
   ]
  },
  {
   "cell_type": "markdown",
   "metadata": {},
   "source": [
    "## 3.1 Add parameters for slecting one ROI to plot curves"
   ]
  },
  {
   "cell_type": "code",
   "execution_count": 7,
   "metadata": {},
   "outputs": [],
   "source": [
    "######### User can change the parameters below ###########\n",
    "p1_value = '0'\n",
    "p2_value = 'I'\n",
    "p3_value = 'a'\n",
    "dp_value = [0,25,1]\n",
    "#########################################################"
   ]
  },
  {
   "cell_type": "markdown",
   "metadata": {},
   "source": [
    "## 3.2 Plot all raw curves in one ROI"
   ]
  },
  {
   "cell_type": "code",
   "execution_count": 8,
   "metadata": {},
   "outputs": [
    {
     "data": {
      "text/plain": [
       "Text(0, 0.5, 'Load On Sample (mN)')"
      ]
     },
     "execution_count": 8,
     "metadata": {},
     "output_type": "execute_result"
    }
   ],
   "source": [
    "p1_i = p1.index(p1_value)\n",
    "p2_i = p2.index(p2_value)\n",
    "p3_i = p3.index(p3_value)\n",
    "plt.ion()\n",
    "fig=plt.figure()\n",
    "for i in range(dp_value[0],dp_value[1],dp_value[2]):\n",
    "    col_x = data_raw[p1_i][p2_i][p3_i][i][0]\n",
    "    col_y = data_raw[p1_i][p2_i][p3_i][i][1]\n",
    "    plt.plot(col_x,col_y, zorder = i)\n",
    "    annot_max(col_x,col_y,i)\n",
    "plt.xlabel(col_x_header)\n",
    "plt.ylabel(col_y_header)"
   ]
  },
  {
   "cell_type": "markdown",
   "metadata": {},
   "source": [
    "## 3.3 Store the number of bad point(s)"
   ]
  },
  {
   "cell_type": "code",
   "execution_count": 7,
   "metadata": {},
   "outputs": [
    {
     "name": "stdout",
     "output_type": "stream",
     "text": [
      "0 I a\n",
      "[]\n"
     ]
    }
   ],
   "source": [
    "already_deleted_points = []\n",
    "for i in range(dp_value[0],dp_value[1],dp_value[2]):\n",
    "    if results[p1_i][p2_i][p3_i][i][4] == 0:\n",
    "        already_deleted_points.append(i)\n",
    "print(p1_value, p2_value, p3_value)        \n",
    "print(already_deleted_points)"
   ]
  },
  {
   "cell_type": "code",
   "execution_count": 9,
   "metadata": {},
   "outputs": [],
   "source": [
    "## User can choose which point(s) to delect or add from below ###\n",
    "delete_points = [11, 12, 19, 23]\n",
    "add_points = []\n",
    "#########################################################\n",
    "for i in delete_points:\n",
    "    results[p1_i][p2_i][p3_i][i][4] = 0\n",
    "for i in add_points:\n",
    "    results[p1_i][p2_i][p3_i][i][4] = 1"
   ]
  },
  {
   "cell_type": "markdown",
   "metadata": {},
   "source": [
    "## 3.4 Check the new plots with bad point(s) deleted"
   ]
  },
  {
   "cell_type": "code",
   "execution_count": 11,
   "metadata": {},
   "outputs": [],
   "source": [
    "plt.ion()\n",
    "fig=plt.figure()\n",
    "results_array = np.zeros([data_point,4])\n",
    "for i in range(dp_value[0],dp_value[1],dp_value[2]):\n",
    "    if results[p1_i][p2_i][p3_i][i][4] != 0:\n",
    "        for j in range(4):\n",
    "            results_array[i][j] = results[p1_i][p2_i][p3_i][i][j].value\n",
    "        col_x = data_raw[p1_i][p2_i][p3_i][i][0]\n",
    "        col_y = data_raw[p1_i][p2_i][p3_i][i][1]\n",
    "        plt.plot(col_x,col_y, zorder = i)\n",
    "        #annot_max(col_x,col_y,i)\n",
    "results_mean = np.mean(np.ma.masked_equal(results_array,0),0)\n",
    "results_std = np.std(np.ma.masked_equal(results_array,0),0)\n",
    "results_label=header_results[1][:-12]+':'+format(results_mean[0],'.1f')+r'$ \\pm $'+format(results_std[0], '.1f')+' '+unit_results[1]+\"\\n\"+\\\n",
    "              header_results[2][:-12]+':'+format(results_mean[1],'.1f')+r'$ \\pm $'+format(results_std[1], '.1f')+' '+unit_results[2]+\"\\n\"+\\\n",
    "              header_results[3][:-12]+':'+format(results_mean[2],'.1f')+r'$ \\pm $'+format(results_std[2], '.1f')+' '+unit_results[3]+\"\\n\"+\\\n",
    "              header_results[9][:-12]+':'+format(results_mean[3],'.1f')+r'$ \\pm $'+format(results_std[3], '.1f')+' '+unit_results[9]     \n",
    "plt.xlabel(col_x_header)\n",
    "plt.ylabel(col_y_header)\n",
    "#### User can set ranges of x, y axes, and label of statistical results below ##########\n",
    "plt.xlim(-5,55)\n",
    "plt.ylim(-0.05, 0.85)\n",
    "plt.text(0.1, 0.5, results_label, fontsize=12)\n",
    "#######################################################################################\n",
    "name_save = p1_value + '_' + p2_value + '_' + p3_value + '__cleaned.png'\n",
    "plt.savefig(directory + '/' + name_save)"
   ]
  },
  {
   "cell_type": "markdown",
   "metadata": {},
   "source": [
    "## Repeat 3.1-3.4"
   ]
  },
  {
   "cell_type": "markdown",
   "metadata": {},
   "source": [
    "## 3.5 Save the metadata with the bad point(s) deleted"
   ]
  },
  {
   "cell_type": "code",
   "execution_count": 12,
   "metadata": {},
   "outputs": [],
   "source": [
    "metadata_save = 'metadata_with_bad_points_labeled'\n",
    "with open(directory + '/' + metadata_save, 'wb') as f: \n",
    "     pickle.dump(results, f)"
   ]
  },
  {
   "cell_type": "markdown",
   "metadata": {},
   "source": [
    "# 4. Plot curves in multiple ROIs together"
   ]
  },
  {
   "cell_type": "markdown",
   "metadata": {},
   "source": [
    "## 4.1 Load the metadata if restart the calculation"
   ]
  },
  {
   "cell_type": "code",
   "execution_count": 13,
   "metadata": {},
   "outputs": [],
   "source": [
    "metadata_save = 'metadata_with_bad_points_labeled'\n",
    "with open(directory + '/' + metadata_save, 'rb') as f: \n",
    "      results = pickle.load(f) "
   ]
  },
  {
   "cell_type": "markdown",
   "metadata": {},
   "source": [
    "## 4.2 Add parameters for slecting mutiple ROIs to plot curves"
   ]
  },
  {
   "cell_type": "code",
   "execution_count": 14,
   "metadata": {},
   "outputs": [],
   "source": [
    "######### User can change the parameters below ########### \n",
    "p1_plots = ['0']\n",
    "p2_plots = ['I','II']\n",
    "p3_plots = ['a','b','c']\n",
    "dp_plots = [0,25,1]\n",
    "#########################################################"
   ]
  },
  {
   "cell_type": "markdown",
   "metadata": {},
   "source": [
    "## 4.3 Plot all slected curves in multiple ROIs"
   ]
  },
  {
   "cell_type": "markdown",
   "metadata": {},
   "source": [
    "### 4.3.1 Plot Displacement - Load curves"
   ]
  },
  {
   "cell_type": "code",
   "execution_count": 15,
   "metadata": {},
   "outputs": [],
   "source": [
    "plt.ion()\n",
    "fig=plt.figure()\n",
    "curve_num = 0\n",
    "key = 1\n",
    "results_array = np.zeros([len(p2_plots),data_point*len(p3_plots)*len(p1_plots),4])\n",
    "results_mean_array = np.zeros([len(p2_plots),4])\n",
    "results_std_array = np.zeros([len(p2_plots),4])\n",
    "color_libary = ['crimson', 'darkorange', 'limegreen', 'dodgerblue', 'darkturquoise','royalblue','darkviolet']\n",
    "for j in range(len(p2_plots)):\n",
    "    for i in range(len(p1_plots)):\n",
    "        for k in range(len(p3_plots)):\n",
    "            ############################ Again, User can set any impossible condition below #############################################\n",
    "            if not (p2_plots[j] == 'I' and p3_plots[k] == 'c'):\n",
    "            ############################################################################################################################\n",
    "                for l in range(dp_plots[0],dp_plots[1],dp_plots[2]):\n",
    "                    if results[i][j][k][l][4] != 0:\n",
    "                        n = l + data_point*k + data_point*len(p3_plots)*i\n",
    "                        for m in range(4):\n",
    "                            results_array[j][n][m] = results[i][j][k][l][m].value\n",
    "                        col_x = data_raw[i][j][k][l][0]\n",
    "                        col_y = data_raw[i][j][k][l][1]\n",
    "                        c = color_libary[j]\n",
    "                        if key ==1:\n",
    "                            ############################ Again, User can set any lable below ######################################\n",
    "                            plt.plot(col_x,col_y, zorder = curve_num, color = c, alpha = 0.3,label='Parameter : ' + p2_plots[j])\n",
    "                            #######################################################################################################\n",
    "                            key = 0\n",
    "                        else:\n",
    "                            plt.plot(col_x,col_y, zorder = curve_num, color = c, alpha = 0.3)\n",
    "                        curve_num = curve_num + 1\n",
    "    results_mean_array[j][:] = np.mean(np.ma.masked_equal(results_array[j],0),0)\n",
    "    results_std_array[j][:] = np.std(np.ma.masked_equal(results_array[j],0),0)\n",
    "    key = 1\n",
    "plt.xlabel(col_x_header)\n",
    "plt.ylabel(col_y_header)\n",
    "plt.legend(loc='upper left')\n",
    "############################ Again, User can set the names below ###################################\n",
    "name_save = 'All curves.png'\n",
    "######################################################################################################\n",
    "plt.savefig(directory + '/' + name_save)"
   ]
  },
  {
   "cell_type": "markdown",
   "metadata": {},
   "source": [
    "### 4.3.2 Copy the data for comparing with other data sets"
   ]
  },
  {
   "cell_type": "markdown",
   "metadata": {},
   "source": [
    "#### Only one of the following unit cells needs to be executed at a time"
   ]
  },
  {
   "cell_type": "code",
   "execution_count": 16,
   "metadata": {},
   "outputs": [],
   "source": [
    "statistic_mean = copy.deepcopy(results_mean_array)\n",
    "statistic_std = copy.deepcopy(results_std_array)"
   ]
  },
  {
   "cell_type": "markdown",
   "metadata": {},
   "source": [
    "### 4.3.3 Plot statistic results from different groups of data sets"
   ]
  },
  {
   "cell_type": "code",
   "execution_count": 17,
   "metadata": {},
   "outputs": [],
   "source": [
    "############# 1. Reduced moduluse; 2. Modulus; 3. Hardness; 4. Stiffness##################################\n",
    "plot_type = 2\n",
    "##########################################################################################################\n",
    "x_axis = []\n",
    "for i in range(len(p2_plots)):\n",
    "    x_axis.append(i)\n",
    "plt.ion()\n",
    "fig=plt.figure()\n",
    "plt.errorbar(x_axis,statistic_mean.T[plot_type],yerr=statistic_std.T[plot_type], uplims=True, lolims=True, \\\n",
    "             color='limegreen',lw=3, marker='d', mfc='green', mec='limegreen', ms=12, mew=3)\n",
    "plt.xlabel('Parameter')\n",
    "plt.ylabel(overall_header[plot_type])\n",
    "\n",
    "name_save = 'Compare_' + overall_header_no_unit[plot_type] +'.png'\n",
    "plt.savefig(directory + '/' + name_save)"
   ]
  },
  {
   "cell_type": "markdown",
   "metadata": {},
   "source": [
    "# END"
   ]
  }
 ],
 "metadata": {
  "kernelspec": {
   "display_name": "Python 3",
   "language": "python",
   "name": "python3"
  },
  "language_info": {
   "codemirror_mode": {
    "name": "ipython",
    "version": 3
   },
   "file_extension": ".py",
   "mimetype": "text/x-python",
   "name": "python",
   "nbconvert_exporter": "python",
   "pygments_lexer": "ipython3",
   "version": "3.7.3"
  }
 },
 "nbformat": 4,
 "nbformat_minor": 4
}
